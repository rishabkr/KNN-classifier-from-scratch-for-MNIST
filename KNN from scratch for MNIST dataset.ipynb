{
 "cells": [
  {
   "cell_type": "markdown",
   "metadata": {},
   "source": [
    "# K-Nearest Neighbors Classifier for Digit Classification"
   ]
  },
  {
   "cell_type": "markdown",
   "metadata": {},
   "source": [
    "Import the required libraries. Pandas will be used for reading data file and various other operations on the dataframe. Numpy will be used for mathematical operations on the data. sklearn.metrics and sklearn will be used for calculating accuracy and comparing the performance of the sklearn KNN classifier with my own implementation of the same. math and random libraries will be used for various other operations"
   ]
  },
  {
   "cell_type": "code",
   "execution_count": 2,
   "metadata": {},
   "outputs": [],
   "source": [
    "import pandas as pd\n",
    "import numpy as np\n",
    "import matplotlib.pyplot as plt\n",
    "import seaborn as sns\n",
    "import random\n",
    "import math\n",
    "from collections import Counter\n",
    "from sklearn.metrics import confusion_matrix\n",
    "from sklearn.metrics import f1_score"
   ]
  },
  {
   "cell_type": "markdown",
   "metadata": {},
   "source": [
    "# Data Preprocessing"
   ]
  },
  {
   "cell_type": "markdown",
   "metadata": {},
   "source": [
    "Read the data from the path and see the contents and columns and the datatypes.Check which values are null.Which of the columns are sparse and decide on the basis of this which columns to drop."
   ]
  },
  {
   "cell_type": "code",
   "execution_count": 3,
   "metadata": {},
   "outputs": [
    {
     "data": {
      "text/html": [
       "<div>\n",
       "<style scoped>\n",
       "    .dataframe tbody tr th:only-of-type {\n",
       "        vertical-align: middle;\n",
       "    }\n",
       "\n",
       "    .dataframe tbody tr th {\n",
       "        vertical-align: top;\n",
       "    }\n",
       "\n",
       "    .dataframe thead th {\n",
       "        text-align: right;\n",
       "    }\n",
       "</style>\n",
       "<table border=\"1\" class=\"dataframe\">\n",
       "  <thead>\n",
       "    <tr style=\"text-align: right;\">\n",
       "      <th></th>\n",
       "      <th>0</th>\n",
       "      <th>1</th>\n",
       "      <th>2</th>\n",
       "      <th>3</th>\n",
       "      <th>4</th>\n",
       "      <th>5</th>\n",
       "      <th>6</th>\n",
       "      <th>7</th>\n",
       "      <th>8</th>\n",
       "      <th>9</th>\n",
       "      <th>...</th>\n",
       "      <th>775</th>\n",
       "      <th>776</th>\n",
       "      <th>777</th>\n",
       "      <th>778</th>\n",
       "      <th>779</th>\n",
       "      <th>780</th>\n",
       "      <th>781</th>\n",
       "      <th>782</th>\n",
       "      <th>783</th>\n",
       "      <th>784</th>\n",
       "    </tr>\n",
       "  </thead>\n",
       "  <tbody>\n",
       "    <tr>\n",
       "      <th>0</th>\n",
       "      <td>1</td>\n",
       "      <td>0</td>\n",
       "      <td>0</td>\n",
       "      <td>0</td>\n",
       "      <td>0</td>\n",
       "      <td>0</td>\n",
       "      <td>0</td>\n",
       "      <td>0</td>\n",
       "      <td>0</td>\n",
       "      <td>0</td>\n",
       "      <td>...</td>\n",
       "      <td>0</td>\n",
       "      <td>0</td>\n",
       "      <td>0</td>\n",
       "      <td>0</td>\n",
       "      <td>0</td>\n",
       "      <td>0</td>\n",
       "      <td>0</td>\n",
       "      <td>0</td>\n",
       "      <td>0</td>\n",
       "      <td>0</td>\n",
       "    </tr>\n",
       "    <tr>\n",
       "      <th>1</th>\n",
       "      <td>2</td>\n",
       "      <td>0</td>\n",
       "      <td>0</td>\n",
       "      <td>0</td>\n",
       "      <td>0</td>\n",
       "      <td>0</td>\n",
       "      <td>0</td>\n",
       "      <td>0</td>\n",
       "      <td>0</td>\n",
       "      <td>0</td>\n",
       "      <td>...</td>\n",
       "      <td>0</td>\n",
       "      <td>0</td>\n",
       "      <td>0</td>\n",
       "      <td>0</td>\n",
       "      <td>0</td>\n",
       "      <td>0</td>\n",
       "      <td>0</td>\n",
       "      <td>0</td>\n",
       "      <td>0</td>\n",
       "      <td>0</td>\n",
       "    </tr>\n",
       "    <tr>\n",
       "      <th>2</th>\n",
       "      <td>6</td>\n",
       "      <td>0</td>\n",
       "      <td>0</td>\n",
       "      <td>0</td>\n",
       "      <td>0</td>\n",
       "      <td>0</td>\n",
       "      <td>0</td>\n",
       "      <td>0</td>\n",
       "      <td>0</td>\n",
       "      <td>0</td>\n",
       "      <td>...</td>\n",
       "      <td>0</td>\n",
       "      <td>0</td>\n",
       "      <td>0</td>\n",
       "      <td>0</td>\n",
       "      <td>0</td>\n",
       "      <td>0</td>\n",
       "      <td>0</td>\n",
       "      <td>0</td>\n",
       "      <td>0</td>\n",
       "      <td>0</td>\n",
       "    </tr>\n",
       "    <tr>\n",
       "      <th>3</th>\n",
       "      <td>5</td>\n",
       "      <td>0</td>\n",
       "      <td>0</td>\n",
       "      <td>0</td>\n",
       "      <td>0</td>\n",
       "      <td>0</td>\n",
       "      <td>0</td>\n",
       "      <td>0</td>\n",
       "      <td>0</td>\n",
       "      <td>0</td>\n",
       "      <td>...</td>\n",
       "      <td>0</td>\n",
       "      <td>0</td>\n",
       "      <td>0</td>\n",
       "      <td>0</td>\n",
       "      <td>0</td>\n",
       "      <td>0</td>\n",
       "      <td>0</td>\n",
       "      <td>0</td>\n",
       "      <td>0</td>\n",
       "      <td>0</td>\n",
       "    </tr>\n",
       "    <tr>\n",
       "      <th>4</th>\n",
       "      <td>3</td>\n",
       "      <td>0</td>\n",
       "      <td>0</td>\n",
       "      <td>0</td>\n",
       "      <td>0</td>\n",
       "      <td>0</td>\n",
       "      <td>0</td>\n",
       "      <td>0</td>\n",
       "      <td>0</td>\n",
       "      <td>0</td>\n",
       "      <td>...</td>\n",
       "      <td>0</td>\n",
       "      <td>0</td>\n",
       "      <td>0</td>\n",
       "      <td>0</td>\n",
       "      <td>0</td>\n",
       "      <td>0</td>\n",
       "      <td>0</td>\n",
       "      <td>0</td>\n",
       "      <td>0</td>\n",
       "      <td>0</td>\n",
       "    </tr>\n",
       "    <tr>\n",
       "      <th>...</th>\n",
       "      <td>...</td>\n",
       "      <td>...</td>\n",
       "      <td>...</td>\n",
       "      <td>...</td>\n",
       "      <td>...</td>\n",
       "      <td>...</td>\n",
       "      <td>...</td>\n",
       "      <td>...</td>\n",
       "      <td>...</td>\n",
       "      <td>...</td>\n",
       "      <td>...</td>\n",
       "      <td>...</td>\n",
       "      <td>...</td>\n",
       "      <td>...</td>\n",
       "      <td>...</td>\n",
       "      <td>...</td>\n",
       "      <td>...</td>\n",
       "      <td>...</td>\n",
       "      <td>...</td>\n",
       "      <td>...</td>\n",
       "      <td>...</td>\n",
       "    </tr>\n",
       "    <tr>\n",
       "      <th>19995</th>\n",
       "      <td>9</td>\n",
       "      <td>0</td>\n",
       "      <td>0</td>\n",
       "      <td>0</td>\n",
       "      <td>0</td>\n",
       "      <td>0</td>\n",
       "      <td>0</td>\n",
       "      <td>0</td>\n",
       "      <td>0</td>\n",
       "      <td>0</td>\n",
       "      <td>...</td>\n",
       "      <td>0</td>\n",
       "      <td>0</td>\n",
       "      <td>0</td>\n",
       "      <td>0</td>\n",
       "      <td>0</td>\n",
       "      <td>0</td>\n",
       "      <td>0</td>\n",
       "      <td>0</td>\n",
       "      <td>0</td>\n",
       "      <td>0</td>\n",
       "    </tr>\n",
       "    <tr>\n",
       "      <th>19996</th>\n",
       "      <td>4</td>\n",
       "      <td>0</td>\n",
       "      <td>0</td>\n",
       "      <td>0</td>\n",
       "      <td>0</td>\n",
       "      <td>0</td>\n",
       "      <td>0</td>\n",
       "      <td>0</td>\n",
       "      <td>0</td>\n",
       "      <td>0</td>\n",
       "      <td>...</td>\n",
       "      <td>0</td>\n",
       "      <td>0</td>\n",
       "      <td>0</td>\n",
       "      <td>0</td>\n",
       "      <td>0</td>\n",
       "      <td>0</td>\n",
       "      <td>0</td>\n",
       "      <td>0</td>\n",
       "      <td>0</td>\n",
       "      <td>0</td>\n",
       "    </tr>\n",
       "    <tr>\n",
       "      <th>19997</th>\n",
       "      <td>6</td>\n",
       "      <td>0</td>\n",
       "      <td>0</td>\n",
       "      <td>0</td>\n",
       "      <td>0</td>\n",
       "      <td>0</td>\n",
       "      <td>0</td>\n",
       "      <td>0</td>\n",
       "      <td>0</td>\n",
       "      <td>0</td>\n",
       "      <td>...</td>\n",
       "      <td>0</td>\n",
       "      <td>0</td>\n",
       "      <td>0</td>\n",
       "      <td>0</td>\n",
       "      <td>0</td>\n",
       "      <td>0</td>\n",
       "      <td>0</td>\n",
       "      <td>0</td>\n",
       "      <td>0</td>\n",
       "      <td>0</td>\n",
       "    </tr>\n",
       "    <tr>\n",
       "      <th>19998</th>\n",
       "      <td>2</td>\n",
       "      <td>0</td>\n",
       "      <td>0</td>\n",
       "      <td>0</td>\n",
       "      <td>0</td>\n",
       "      <td>0</td>\n",
       "      <td>0</td>\n",
       "      <td>0</td>\n",
       "      <td>0</td>\n",
       "      <td>0</td>\n",
       "      <td>...</td>\n",
       "      <td>0</td>\n",
       "      <td>0</td>\n",
       "      <td>0</td>\n",
       "      <td>0</td>\n",
       "      <td>0</td>\n",
       "      <td>0</td>\n",
       "      <td>0</td>\n",
       "      <td>0</td>\n",
       "      <td>0</td>\n",
       "      <td>0</td>\n",
       "    </tr>\n",
       "    <tr>\n",
       "      <th>19999</th>\n",
       "      <td>8</td>\n",
       "      <td>0</td>\n",
       "      <td>0</td>\n",
       "      <td>0</td>\n",
       "      <td>0</td>\n",
       "      <td>0</td>\n",
       "      <td>0</td>\n",
       "      <td>0</td>\n",
       "      <td>0</td>\n",
       "      <td>0</td>\n",
       "      <td>...</td>\n",
       "      <td>0</td>\n",
       "      <td>0</td>\n",
       "      <td>0</td>\n",
       "      <td>0</td>\n",
       "      <td>0</td>\n",
       "      <td>0</td>\n",
       "      <td>0</td>\n",
       "      <td>0</td>\n",
       "      <td>0</td>\n",
       "      <td>0</td>\n",
       "    </tr>\n",
       "  </tbody>\n",
       "</table>\n",
       "<p>20000 rows × 785 columns</p>\n",
       "</div>"
      ],
      "text/plain": [
       "       0    1    2    3    4    5    6    7    8    9    ...  775  776  777  \\\n",
       "0        1    0    0    0    0    0    0    0    0    0  ...    0    0    0   \n",
       "1        2    0    0    0    0    0    0    0    0    0  ...    0    0    0   \n",
       "2        6    0    0    0    0    0    0    0    0    0  ...    0    0    0   \n",
       "3        5    0    0    0    0    0    0    0    0    0  ...    0    0    0   \n",
       "4        3    0    0    0    0    0    0    0    0    0  ...    0    0    0   \n",
       "...    ...  ...  ...  ...  ...  ...  ...  ...  ...  ...  ...  ...  ...  ...   \n",
       "19995    9    0    0    0    0    0    0    0    0    0  ...    0    0    0   \n",
       "19996    4    0    0    0    0    0    0    0    0    0  ...    0    0    0   \n",
       "19997    6    0    0    0    0    0    0    0    0    0  ...    0    0    0   \n",
       "19998    2    0    0    0    0    0    0    0    0    0  ...    0    0    0   \n",
       "19999    8    0    0    0    0    0    0    0    0    0  ...    0    0    0   \n",
       "\n",
       "       778  779  780  781  782  783  784  \n",
       "0        0    0    0    0    0    0    0  \n",
       "1        0    0    0    0    0    0    0  \n",
       "2        0    0    0    0    0    0    0  \n",
       "3        0    0    0    0    0    0    0  \n",
       "4        0    0    0    0    0    0    0  \n",
       "...    ...  ...  ...  ...  ...  ...  ...  \n",
       "19995    0    0    0    0    0    0    0  \n",
       "19996    0    0    0    0    0    0    0  \n",
       "19997    0    0    0    0    0    0    0  \n",
       "19998    0    0    0    0    0    0    0  \n",
       "19999    0    0    0    0    0    0    0  \n",
       "\n",
       "[20000 rows x 785 columns]"
      ]
     },
     "execution_count": 3,
     "metadata": {},
     "output_type": "execute_result"
    }
   ],
   "source": [
    "df=pd.read_csv(\"train.csv\",header=None)\n",
    "df"
   ]
  },
  {
   "cell_type": "markdown",
   "metadata": {},
   "source": [
    " The above dataset is a set of pixel values for a 28x28 image.Each row corresponds to an image of a digit belonging to classes 0-9(10 classes).So this is a case of multi-class classification. The digits look as follows:"
   ]
  },
  {
   "cell_type": "code",
   "execution_count": 8,
   "metadata": {},
   "outputs": [
    {
     "data": {
      "image/png": "[encoded data removed]",
      "text/plain": [
       "<Figure size 432x288 with 1 Axes>"
      ]
     },
     "metadata": {
      "needs_background": "light"
     },
     "output_type": "display_data"
    },
    {
     "data": {
      "image/png": "[encoded data removed]",
      "text/plain": [
       "<Figure size 432x288 with 1 Axes>"
      ]
     },
     "metadata": {
      "needs_background": "light"
     },
     "output_type": "display_data"
    },
    {
     "data": {
      "image/png": "[encoded data removed]",
      "text/plain": [
       "<Figure size 432x288 with 1 Axes>"
      ]
     },
     "metadata": {
      "needs_background": "light"
     },
     "output_type": "display_data"
    },
    {
     "data": {
      "image/png": "[encoded data removed]",
      "text/plain": [
       "<Figure size 432x288 with 1 Axes>"
      ]
     },
     "metadata": {
      "needs_background": "light"
     },
     "output_type": "display_data"
    },
    {
     "data": {
      "image/png": "[encoded data removed]",
      "text/plain": [
       "<Figure size 432x288 with 1 Axes>"
      ]
     },
     "metadata": {
      "needs_background": "light"
     },
     "output_type": "display_data"
    }
   ],
   "source": [
    "def drawing(sample):\n",
    "    img = sample.reshape((28,28))\n",
    "    plt.imshow(img,cmap = 'gray')\n",
    "    plt.show()\n",
    "\n",
    "digits=df.iloc[:5,:-1]\n",
    "digits=digits.to_numpy()\n",
    "for i in range(digits.shape[0]):\n",
    "    drawing(digits[i])"
   ]
  },
  {
   "cell_type": "markdown",
   "metadata": {},
   "source": [
    "# Helper Functions"
   ]
  },
  {
   "cell_type": "markdown",
   "metadata": {},
   "source": [
    "The function below splits the data into training data and testing data in two parts as per the size passed."
   ]
  },
  {
   "cell_type": "code",
   "execution_count": 5,
   "metadata": {},
   "outputs": [],
   "source": [
    "#train test split\n",
    "def train_test_split(df,test_size):\n",
    "    df_size=len(df)\n",
    "    if isinstance(test_size,float):#if test size is passed as a proportion\n",
    "        test_size=round(test_size*df_size)\n",
    "    #pick random samples from the data for train test split\n",
    "    indexes=df.index.tolist()\n",
    "    test_indices=random.sample(population=indexes,k=test_size)\n",
    "    #now putting the values of train and test data into the respective df's\n",
    "    test_df=df.loc[test_indices]\n",
    "    cropped_df=df.drop(test_indices)\n",
    "    train_df=cropped_df\n",
    "    return train_df,test_df"
   ]
  },
  {
   "cell_type": "markdown",
   "metadata": {},
   "source": [
    "The function below returns the distances between the test_sample(a single row) with all the training samples. p=1 means manhattan distance and p=2 means eucleidan distance."
   ]
  },
  {
   "cell_type": "code",
   "execution_count": 6,
   "metadata": {},
   "outputs": [],
   "source": [
    "def minkowski(train_values,test_value,p):\n",
    "        if(p==2):\n",
    "            distance=np.sum((train_values - test_value)**2,axis=1)\n",
    "            return distance\n",
    "        elif(p==1):\n",
    "            distance=np.sum(abs(train_values - test_value),axis=1)\n",
    "            return distance"
   ]
  },
  {
   "cell_type": "markdown",
   "metadata": {},
   "source": [
    "This is the main KNN function.It takes input three values,the hyperparamter k(the number of neighbours we have to consider),the test row which we have to classify. It takes the training data and finds distance from all of them with the test data.After finding the distances it sorts them and returns the top k neighbors"
   ]
  },
  {
   "cell_type": "code",
   "execution_count": 7,
   "metadata": {},
   "outputs": [],
   "source": [
    "def KNeighbors(k,train_values,test_value,p=2):\n",
    "        neighbors=[]\n",
    "        train_length=train_values.shape[0]\n",
    "        if(p==2):\n",
    "            distance=minkowski(train_values,test_value,p=2)\n",
    "        elif(p==1):\n",
    "            distance=minkowski(train_values,test_value,p=1)\n",
    "        k_neighbors=np.argsort(distance)\n",
    "        k_neighbors=k_neighbors[:k]\n",
    "        return k_neighbors"
   ]
  },
  {
   "cell_type": "markdown",
   "metadata": {},
   "source": [
    "The funcition takes in the k neighbors returned from the KNeighbors function and returns the most frequently occuring class/label."
   ]
  },
  {
   "cell_type": "code",
   "execution_count": 8,
   "metadata": {},
   "outputs": [],
   "source": [
    "def find_majority(k_index,train_labels):\n",
    "        ans = Counter(train_labels[k_index]).most_common()\n",
    "        return ans[0][0]"
   ]
  },
  {
   "cell_type": "markdown",
   "metadata": {},
   "source": [
    "# Validation and Hyperparameter tuning"
   ]
  },
  {
   "cell_type": "code",
   "execution_count": 19,
   "metadata": {},
   "outputs": [],
   "source": [
    "train_df,val_df=train_test_split(df,0.25)\n",
    "train_df=train_df.iloc[:10000]\n",
    "val_df=val_df.iloc[:1500]\n",
    "train_digits=train_df.to_numpy()\n",
    "validation_digits=val_df.to_numpy()\n",
    "train_values=train_digits[:,1:]\n",
    "train_labels=train_digits[:,0]\n",
    "validation_values=val_digits[:,1:]\n",
    "validation_labels=val_digits[:,0]"
   ]
  },
  {
   "cell_type": "markdown",
   "metadata": {},
   "source": [
    "We run our KNN algorithm for each k and choose the best amongst them through cross-validation accuracy for our test data."
   ]
  },
  {
   "cell_type": "code",
   "execution_count": 21,
   "metadata": {},
   "outputs": [
    {
     "name": "stdout",
     "output_type": "stream",
     "text": [
      "Eucledian Distance\n",
      "K | Accuracy\n",
      "--------\n",
      "3 | 0.9668\n",
      "--------\n",
      "5 | 0.9624\n",
      "--------\n",
      "7 | 0.9584\n",
      "============\n",
      "For Manhattan Distance\n",
      "K Accuracy\n",
      "--------\n",
      "3 | 0.9606\n",
      "--------\n",
      "5 | 0.9528\n",
      "--------\n",
      "7 | 0.949\n"
     ]
    }
   ],
   "source": [
    "print(\"Eucledian Distance\")\n",
    "print(\"K\",\"|\",\"Accuracy\")\n",
    "for k in range(3,9,2):\n",
    "    prediction=[]\n",
    "    for i in range(validation_values.shape[0]):\n",
    "        indexes=KNeighbors(k,train_values,validation_values[i],p=2)\n",
    "        result=find_majority(indexes,train_labels)\n",
    "        prediction.append(result)\n",
    "    prediction=np.array(prediction)\n",
    "    acc = np.sum(prediction == validation_labels)/prediction.shape[0]\n",
    "    print(\"--------\")\n",
    "    print(k,\"|\",acc)\n",
    "print(\"============\")    \n",
    "print(\"For Manhattan Distance\")\n",
    "print(\"K\",\"Accuracy\")\n",
    "for k in range(3,9,2):\n",
    "    prediction=[]\n",
    "    for i in range(validation_values.shape[0]):\n",
    "        indexes=KNeighbors(k,train_values,validation_values[i],p=1)\n",
    "        result=find_majority(indexes,train_labels)\n",
    "        prediction.append(result)\n",
    "    prediction=np.array(prediction)\n",
    "    acc = np.sum(prediction == validation_labels)/prediction.shape[0]\n",
    "    print(\"--------\")\n",
    "    print(k,\"|\",acc)\n"
   ]
  },
  {
   "cell_type": "markdown",
   "metadata": {},
   "source": [
    "# Testing"
   ]
  },
  {
   "cell_type": "markdown",
   "metadata": {},
   "source": [
    "We got  96.24% accuracy for K=5 and Eucledian Distance as our distance measure.We use the same hyperparameters for our test data."
   ]
  },
  {
   "cell_type": "code",
   "execution_count": 28,
   "metadata": {},
   "outputs": [],
   "source": [
    "df_test=pd.read_csv(\"test.csv\")\n",
    "df_labels=pd.read_csv(\"test_labels.csv\")\n",
    "test_vals=df_test.to_numpy()\n",
    "label_vals=df_labels.to_numpy()"
   ]
  },
  {
   "cell_type": "code",
   "execution_count": 40,
   "metadata": {},
   "outputs": [
    {
     "name": "stdout",
     "output_type": "stream",
     "text": [
      "Accuracy on Test Data :  0.9529529529529529\n"
     ]
    }
   ],
   "source": [
    "prediction=[]\n",
    "for i in range(test_vals.shape[0]):\n",
    "    indexes=KNeighbors(5,train_values,test_vals[i])\n",
    "    result=find_majority(indexes,train_labels)\n",
    "    prediction.append(result)\n",
    "prediction=np.array(prediction)\n",
    "prediction=prediction.reshape(999,1)\n",
    "acc = np.sum(prediction == label_vals)/prediction.shape[0]\n",
    "print(\"Accuracy on Test Data : \",acc)"
   ]
  },
  {
   "cell_type": "markdown",
   "metadata": {},
   "source": [
    "For the test file we get around 95.3% accuracy,for K=5."
   ]
  },
  {
   "cell_type": "markdown",
   "metadata": {},
   "source": [
    "# Performance metrics:"
   ]
  },
  {
   "cell_type": "markdown",
   "metadata": {},
   "source": [
    "# 1.Confusion matrix"
   ]
  },
  {
   "cell_type": "markdown",
   "metadata": {},
   "source": [
    "A confusion matrix is a technique for summarizing the performance of a classification algorithm. Classification accuracy alone can be misleading if you have an unequal number of observations in each class or if you have more than two classes in your dataset.The left to right (primary)diagonal elements of a confusion matrix indicate the correct predictions and the off diagonal elements indicate the number of misclassifications"
   ]
  },
  {
   "cell_type": "code",
   "execution_count": 43,
   "metadata": {},
   "outputs": [
    {
     "name": "stdout",
     "output_type": "stream",
     "text": [
      "[[ 92   0   0   0   0   1   1   0   0   0]\n",
      " [  0 100   0   1   0   0   0   0   0   0]\n",
      " [  0   0 104   1   0   0   0   2   1   0]\n",
      " [  0   0   0 107   0   1   0   0   0   0]\n",
      " [  0   2   0   0  82   0   1   0   0   6]\n",
      " [  0   1   0   3   0  75   1   0   1   0]\n",
      " [  0   0   0   0   0   0 101   0   0   0]\n",
      " [  0   4   1   0   2   0   0  95   0   2]\n",
      " [  0   1   2   2   0   3   0   0  92   0]\n",
      " [  2   0   0   0   1   0   0   3   1 104]]\n"
     ]
    }
   ],
   "source": [
    "cm = confusion_matrix(label_vals, prediction)\n",
    "print(cm)"
   ]
  },
  {
   "cell_type": "markdown",
   "metadata": {},
   "source": [
    "The above confusion matrix shows that \n",
    "1. 92 values are correctly classified as class 0  and  4 values are misclassified.\n",
    "2. 100 values are correctly classified as class 1  and  1 value is misclassified.\n",
    "3. 104 values are correctly classified as class 2  and  4 values are misclassified.\n",
    "4. 107 values are correctly classified as class 3  and  1 value is misclassified.\n",
    "5. 82 values are correctly classified as class 4  and  9 values are misclassified.\n",
    "6. 75 values are correctly classified as class 5  and  6 values are misclassified.\n",
    "7. 101 values are correctly classified as class 6  and  0 values are misclassified.\n",
    "8. 95 values are correctly classified as class 7  and  9 values are misclassified.\n",
    "9. 92 values are correctly classified as class 8  and  8 values are misclassified.\n",
    "10. 104 values are correctly classified as class 9  and  7 values are misclassified."
   ]
  },
  {
   "cell_type": "markdown",
   "metadata": {},
   "source": [
    "# 2. F1-score"
   ]
  },
  {
   "cell_type": "markdown",
   "metadata": {},
   "source": [
    "Precision is the number of True Positives divided by the number of True Positives and False Positives. Put another way, it is the number of positive predictions divided by the total number of positive class values predicted.\n",
    "\n",
    "Recall is the number of True Positives divided by the number of True Positives and the number of False Negatives. Put another way it is the number of positive predictions divided by the number of positive class values in the test data. It is also called Sensitivity or the True Positive Rate.\n",
    "\n",
    "The F1 Score is the 2*((precision * recall)/(precision+recall)). The F1 score conveys the balance between the precision and the recall.The higher F1 score,the better.The F1 score can be interpreted as a weighted average of the precision and recall, where an F1 score reaches its best value at 1 and worst score at 0."
   ]
  },
  {
   "cell_type": "code",
   "execution_count": 46,
   "metadata": {
    "scrolled": true
   },
   "outputs": [
    {
     "name": "stdout",
     "output_type": "stream",
     "text": [
      "0.9529529529529529\n"
     ]
    }
   ],
   "source": [
    "print(f1_score(label_vals, prediction,average='micro'))"
   ]
  },
  {
   "cell_type": "markdown",
   "metadata": {},
   "source": [
    "# BaseLine Accuracy"
   ]
  },
  {
   "cell_type": "markdown",
   "metadata": {},
   "source": [
    "# 1.Random Guessing"
   ]
  },
  {
   "cell_type": "code",
   "execution_count": 62,
   "metadata": {},
   "outputs": [
    {
     "name": "stdout",
     "output_type": "stream",
     "text": [
      " Random guessing Accuracy :  0.08808808808808809\n",
      " Random guessing Accuracy :  0.11911911911911911\n",
      " Random guessing Accuracy :  0.11211211211211211\n",
      " Random guessing Accuracy :  0.0960960960960961\n",
      " Random guessing Accuracy :  0.11211211211211211\n",
      " Random guessing Accuracy :  0.09309309309309309\n",
      " Random guessing Accuracy :  0.0940940940940941\n",
      " Random guessing Accuracy :  0.0920920920920921\n",
      " Random guessing Accuracy :  0.1021021021021021\n",
      " Random guessing Accuracy :  0.09309309309309309\n"
     ]
    }
   ],
   "source": [
    "random_classes=[0,1,2,3,4,5,6,7,8,9]\n",
    "#label_vals = label_vals[:, 0]\n",
    "for chances in range(0,10):\n",
    "    random_results=[]\n",
    "    for i in range(label_vals.shape[0]):\n",
    "        result=random.choice(random_classes)\n",
    "        random_results.append(result)\n",
    "    random_results=np.array(random_results)\n",
    "    acc = np.sum(random_results == label_vals)/random_results.shape[0]\n",
    "    print(\" Random guessing Accuracy : \",acc)"
   ]
  },
  {
   "cell_type": "markdown",
   "metadata": {},
   "source": [
    "From Random Guessing we see that the model's accuracy lies between 9% to 11% which is roughly 1/(number of classes).This is a baseline score and a model is really poor if it fails to reach this accuracy."
   ]
  },
  {
   "cell_type": "markdown",
   "metadata": {},
   "source": [
    "# 2. Majority Voting"
   ]
  },
  {
   "cell_type": "code",
   "execution_count": 64,
   "metadata": {},
   "outputs": [
    {
     "name": "stdout",
     "output_type": "stream",
     "text": [
      " Majority Voting Accuracy :  0.09309309309309309\n",
      " Majority Voting Accuracy :  0.09309309309309309\n",
      " Majority Voting Accuracy :  0.09309309309309309\n",
      " Majority Voting Accuracy :  0.09309309309309309\n",
      " Majority Voting Accuracy :  0.09309309309309309\n"
     ]
    }
   ],
   "source": [
    "for chances in range(0,5):\n",
    "    majority_results=[]\n",
    "    for i in range(test_vals.shape[0]):\n",
    "        result = Counter(train_labels).most_common()\n",
    "        majority_results.append(result[0][0])\n",
    "    majority_results=np.array(random_results)\n",
    "    acc = np.sum(majority_results == label_vals)/majority_results.shape[0]\n",
    "    print(\" Majority Voting Accuracy : \",acc)"
   ]
  },
  {
   "cell_type": "markdown",
   "metadata": {},
   "source": [
    "In this we return the class which has the highest number of occurance from the list of all classes.From above we see that the accuracy with Majority Voting is on an average ~0.1 i.e ~10% same as random guessing here because it has ten classes and the train data was well balanced.This is a baseline score and a model is really poor if it fails to reach this accuracy."
   ]
  },
  {
   "cell_type": "markdown",
   "metadata": {},
   "source": [
    "# Comparison with scikit-learn KNN classifier"
   ]
  },
  {
   "cell_type": "code",
   "execution_count": 65,
   "metadata": {},
   "outputs": [
    {
     "data": {
      "text/plain": [
       "KNeighborsClassifier(algorithm='auto', leaf_size=30, metric='minkowski',\n",
       "                     metric_params=None, n_jobs=None, n_neighbors=5, p=2,\n",
       "                     weights='uniform')"
      ]
     },
     "execution_count": 65,
     "metadata": {},
     "output_type": "execute_result"
    }
   ],
   "source": [
    "from sklearn.neighbors import KNeighborsClassifier\n",
    "classifier=KNeighborsClassifier(n_neighbors=5,metric='minkowski',p=2)\n",
    "classifier.fit(train_values,train_labels)"
   ]
  },
  {
   "cell_type": "code",
   "execution_count": 66,
   "metadata": {},
   "outputs": [
    {
     "name": "stdout",
     "output_type": "stream",
     "text": [
      "0.9519519519519519\n"
     ]
    }
   ],
   "source": [
    "sk_predictions=classifier.predict(test_vals)\n",
    "sk_prediction=np.array(sk_predictions)\n",
    "acc = np.sum(sk_prediction == label_vals)/sk_prediction.shape[0]\n",
    "print(acc)"
   ]
  },
  {
   "cell_type": "markdown",
   "metadata": {},
   "source": [
    "The accuray for KNN classifier from scikit-learn is about same as our implementation of the same."
   ]
  }
 ],
 "metadata": {
  "kernelspec": {
   "display_name": "Python 3",
   "language": "python",
   "name": "python3"
  },
  "language_info": {
   "codemirror_mode": {
    "name": "ipython",
    "version": 3
   },
   "file_extension": ".py",
   "mimetype": "text/x-python",
   "name": "python",
   "nbconvert_exporter": "python",
   "pygments_lexer": "ipython3",
   "version": "3.7.4"
  }
 },
 "nbformat": 4,
 "nbformat_minor": 2
}
